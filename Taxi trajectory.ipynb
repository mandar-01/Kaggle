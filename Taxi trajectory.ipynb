{
 "cells": [
  {
   "cell_type": "code",
   "execution_count": 1,
   "metadata": {
    "collapsed": true
   },
   "outputs": [],
   "source": [
    "import pandas as pd\n",
    "import numpy as np\n",
    "from datetime import datetime as dt\n",
    "import tzlocal as tz"
   ]
  },
  {
   "cell_type": "code",
   "execution_count": 4,
   "metadata": {},
   "outputs": [],
   "source": [
    "\n",
    "df = pd.read_csv('train.csv')\n",
    "#print df\n",
    "df = df.head(1000)"
   ]
  },
  {
   "cell_type": "code",
   "execution_count": 4,
   "metadata": {},
   "outputs": [
    {
     "name": "stdout",
     "output_type": "stream",
     "text": [
      "(1710670, 9)\n"
     ]
    }
   ],
   "source": [
    "print df.shape"
   ]
  },
  {
   "cell_type": "code",
   "execution_count": 5,
   "metadata": {},
   "outputs": [
    {
     "name": "stdout",
     "output_type": "stream",
     "text": [
      "[[-8.618643,41.141412],[-8.618499,41.141376],[-8.620326,41.14251],[-8.622153,41.143815],[-8.623953,41.144373],[-8.62668,41.144778],[-8.627373,41.144697],[-8.630226,41.14521],[-8.632746,41.14692],[-8.631738,41.148225],[-8.629938,41.150385],[-8.62911,41.151213],[-8.629128,41.15124],[-8.628786,41.152203],[-8.628687,41.152374],[-8.628759,41.152518],[-8.630838,41.15268],[-8.632323,41.153022],[-8.631144,41.154489],[-8.630829,41.154507],[-8.630829,41.154516],[-8.630829,41.154498],[-8.630838,41.154489]]\n"
     ]
    }
   ],
   "source": [
    "print df['POLYLINE'][0]"
   ]
  },
  {
   "cell_type": "code",
   "execution_count": 21,
   "metadata": {},
   "outputs": [
    {
     "name": "stdout",
     "output_type": "stream",
     "text": [
      "08:18:45\n"
     ]
    }
   ],
   "source": [
    "def process(df):\n",
    "    df = df.join(pd.get_dummies(df['CALL_TYPE']))\n",
    "    #df = df.join(pd.get_dummies(df['DAY_TYPE'],prefix='day_'))\n",
    "    df['day_a'] = 0\n",
    "    df.loc[df['DAY_TYPE'] == 'A','day_a'] = 1\n",
    "    df['day_b'] = 0\n",
    "    df.loc[df['DAY_TYPE'] == 'B','day_b'] = 1\n",
    "    df['day_c'] = 0\n",
    "    df.loc[df['DAY_TYPE'] == 'C','day_c'] = 1\n",
    "    df['ORIGIN_CALL'].fillna(0,inplace=True)\n",
    "    df['ORIGIN_STAND'].fillna(0,inplace=True)\n",
    "    df.loc[df['MISSING_DATA'] == False,'missing_data'] = 0\n",
    "    df.loc[df['MISSING_DATA'] == True,'missing_data'] = 1\n",
    "    df['morning'] = 0\n",
    "    df['evening'] = 0\n",
    "    df['night'] = 0\n",
    "    local_time = []\n",
    "    local_timezone = tz.get_localzone() \n",
    "    for index,row in df.iterrows():\n",
    "        unix_time = row['TIMESTAMP']\n",
    "        local_time.append(dt.fromtimestamp(unix_time).strftime(\"%H:%M:%S\"))\n",
    "    #time = local_time[100].strftime(\"%H:%M:%S\")\n",
    "    for x in range(0,len(local_time)):\n",
    "        df['time'] = local_time[x][0:2]\n",
    "        if 7 < int(local_time[x][0:2]) <= 12:\n",
    "            df['morning'] = 1\n",
    "        elif 12 < int(local_time[x][0:2]) <= 21:\n",
    "            df['evening'] = 1\n",
    "        else:\n",
    "            df['night'] = 1\n",
    "    #print local_time[230]\n",
    "    print local_time[230]\n",
    "    df.drop(['CALL_TYPE','DAY_TYPE','MISSING_DATA','TRIP_ID'],axis=1,inplace=True)\n",
    "    return df\n",
    "    \n",
    "processed_df = process(df)\n",
    "#print processed_df.head()\n",
    "#print processed_df.iloc[229]"
   ]
  },
  {
   "cell_type": "code",
   "execution_count": null,
   "metadata": {
    "collapsed": true
   },
   "outputs": [],
   "source": []
  }
 ],
 "metadata": {
  "kernelspec": {
   "display_name": "Python 2",
   "language": "python",
   "name": "python2"
  },
  "language_info": {
   "codemirror_mode": {
    "name": "ipython",
    "version": 2
   },
   "file_extension": ".py",
   "mimetype": "text/x-python",
   "name": "python",
   "nbconvert_exporter": "python",
   "pygments_lexer": "ipython2",
   "version": "2.7.12"
  }
 },
 "nbformat": 4,
 "nbformat_minor": 2
}
